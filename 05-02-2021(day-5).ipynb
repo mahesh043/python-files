{
 "cells": [
  {
   "cell_type": "markdown",
   "id": "ed6364a0",
   "metadata": {},
   "source": [
    "## File Handling\n",
    "- file: file is a named location or memory used to store relative information\n",
    "    - .csv,.py,.html,.txt,.ipynb,mp4\n",
    "- file handling: it allows used to handle files compare to other languages programming in file handling is easy in python\n",
    "- read and write files along with the other files handles to work on file\n",
    "- step of the handling\n",
    "    - open file\n",
    "    - doing operation\n",
    "    - close a file\n",
    "- open function()\n",
    "    - we use open fun() in python to open the file in read and write option \n",
    "    - to return a object we use in open function() along 2 arguments.that acpet the file name and mode wether read or write\n",
    "    - syntax::open(filename.mobe)\n",
    "- mode are three types to open a fille\n",
    "    - read()--'r'-->to read a file\n",
    "        - file_variable.read(size)\n",
    "    - write()--'w'--> to write a file\n",
    "        - file_variable.write(data)\n",
    "     - append()--'a'-->to add a information to a file\n",
    "         - file_variable.append(data)\n",
    "- by default the file will open as 'R'mode\n",
    "- close()\n",
    "    - it  is used to close a file\n",
    "    - every time we have to close a file at the end of the operation .other wise the change will not be applicable"
   ]
  },
  {
   "cell_type": "code",
   "execution_count": 1,
   "id": "7dd0e6f6",
   "metadata": {},
   "outputs": [
    {
     "name": "stdout",
     "output_type": "stream",
     "text": [
      "successfully opened\n"
     ]
    }
   ],
   "source": [
    "f=open(\"data.txt\",'r')\n",
    "if f:\n",
    "    print(\"successfully opened\")\n",
    "else:\n",
    "    print(\"failed\")"
   ]
  },
  {
   "cell_type": "code",
   "execution_count": 2,
   "id": "09f3bac6",
   "metadata": {},
   "outputs": [
    {
     "name": "stdout",
     "output_type": "stream",
     "text": [
      "hi my name is mahesh ,i am studying in vasavi college \n"
     ]
    }
   ],
   "source": [
    "# read\n",
    "f=open(\"data.txt\")\n",
    "print(f.read())\n",
    "f.close()"
   ]
  },
  {
   "cell_type": "code",
   "execution_count": 3,
   "id": "efb9374a",
   "metadata": {},
   "outputs": [
    {
     "name": "stdout",
     "output_type": "stream",
     "text": [
      "hi my name is mahesh ,i am studying in vasavi college \n"
     ]
    }
   ],
   "source": [
    "# using with keyword automatiaclly fill will be closed\n",
    "with open(\"data.txt\") as f:\n",
    "    fr= f.read()\n",
    "    print(fr)"
   ]
  },
  {
   "cell_type": "code",
   "execution_count": 4,
   "id": "b3bbb960",
   "metadata": {},
   "outputs": [
    {
     "name": "stdout",
     "output_type": "stream",
     "text": [
      "hi my n\n"
     ]
    }
   ],
   "source": [
    "# read\n",
    "f=open(\"data.txt\")\n",
    "print(f.read(7))\n",
    "f.close()"
   ]
  },
  {
   "cell_type": "code",
   "execution_count": 5,
   "id": "9bb01d43",
   "metadata": {},
   "outputs": [
    {
     "name": "stdout",
     "output_type": "stream",
     "text": [
      "18\n"
     ]
    }
   ],
   "source": [
    "f=open(\"data1.txt\",'w')\n",
    "fr=f.write(\"python programming\")\n",
    "print(fr)\n",
    "f.close()"
   ]
  },
  {
   "cell_type": "markdown",
   "id": "b2205601",
   "metadata": {},
   "source": [
    "###  file handling methods\n",
    "- open()\n",
    "- read()\n",
    "- write()\n",
    "- close()\n",
    "- readlines()\n",
    "- readlines()\n",
    "- seek()\n",
    "- tell()\n",
    "- types of modes:\n",
    "    - read()-'r'\n",
    "    - write()--'w'\n",
    "    - apend()--'a'\n",
    "    "
   ]
  },
  {
   "cell_type": "code",
   "execution_count": 18,
   "id": "ae12484d",
   "metadata": {},
   "outputs": [],
   "source": [
    "f=open(\"data.txt\")"
   ]
  },
  {
   "cell_type": "code",
   "execution_count": 19,
   "id": "63cea7db",
   "metadata": {},
   "outputs": [],
   "source": [
    "info=f.read(6)"
   ]
  },
  {
   "cell_type": "code",
   "execution_count": 20,
   "id": "c7996df6",
   "metadata": {},
   "outputs": [
    {
     "name": "stdout",
     "output_type": "stream",
     "text": [
      "\n"
     ]
    }
   ],
   "source": [
    "print(info)"
   ]
  },
  {
   "cell_type": "code",
   "execution_count": 21,
   "id": "18a0b9be",
   "metadata": {},
   "outputs": [
    {
     "name": "stdout",
     "output_type": "stream",
     "text": [
      "\n"
     ]
    }
   ],
   "source": [
    "d=f.read()\n",
    "print(d)"
   ]
  },
  {
   "cell_type": "code",
   "execution_count": 22,
   "id": "5dd1c2b2",
   "metadata": {},
   "outputs": [],
   "source": [
    "f.close()"
   ]
  },
  {
   "cell_type": "code",
   "execution_count": 23,
   "id": "3597ef5b",
   "metadata": {},
   "outputs": [],
   "source": [
    "# write mode()\n",
    "# it is used to write some thing in file\n",
    "# if file is not their directory,\n",
    "# the file will be create and data will be  written ein that file"
   ]
  },
  {
   "cell_type": "code",
   "execution_count": 24,
   "id": "71e2610a",
   "metadata": {},
   "outputs": [],
   "source": [
    "fo=open('data.txt','w')\n"
   ]
  },
  {
   "cell_type": "code",
   "execution_count": 25,
   "id": "b6d81466",
   "metadata": {},
   "outputs": [
    {
     "name": "stdout",
     "output_type": "stream",
     "text": [
      "<_io.TextIOWrapper name='data.txt' mode='w' encoding='cp1252'>\n"
     ]
    }
   ],
   "source": [
    "fo.write(\"duybye\")\n",
    "print(fo)"
   ]
  },
  {
   "cell_type": "code",
   "execution_count": 26,
   "id": "47f49bff",
   "metadata": {},
   "outputs": [],
   "source": [
    "f=open(\"data.txt\",'a')\n",
    "f=fo.write(\"uigeqwbc jkgfiuq iuyg23 iugf9p\")"
   ]
  },
  {
   "cell_type": "code",
   "execution_count": 27,
   "id": "b9639c1a",
   "metadata": {},
   "outputs": [
    {
     "name": "stdout",
     "output_type": "stream",
     "text": [
      "30\n"
     ]
    }
   ],
   "source": [
    "print(f)"
   ]
  },
  {
   "cell_type": "code",
   "execution_count": 28,
   "id": "1aa0fe44",
   "metadata": {},
   "outputs": [
    {
     "name": "stdout",
     "output_type": "stream",
     "text": [
      "duybyeuigeqwbc jkgfiuq iuyg23 iugf9pduybyeuigeqwbc jkgfiuq iuyg23 iugf9pduybyeuigeqwbc jkgfiuq iuyg23 iugf9p\n",
      "\n"
     ]
    }
   ],
   "source": [
    "f=open(\"data.txt\",'r')\n",
    "s=f.readline()\n",
    "print(s)\n",
    "t=f.readline()\n",
    "print(t)\n"
   ]
  },
  {
   "cell_type": "code",
   "execution_count": 29,
   "id": "c1962c3d",
   "metadata": {},
   "outputs": [
    {
     "name": "stdout",
     "output_type": "stream",
     "text": [
      "number of lines in the file: 1\n"
     ]
    }
   ],
   "source": [
    "with open (\"data.txt\",'r') as f:\n",
    "    no_of_lines=f.readlines()\n",
    "    print(\"number of lines in the file:\",len(no_of_lines))"
   ]
  },
  {
   "cell_type": "code",
   "execution_count": 32,
   "id": "b6b8a1b5",
   "metadata": {},
   "outputs": [
    {
     "name": "stdout",
     "output_type": "stream",
     "text": [
      "number of words are: 10\n"
     ]
    }
   ],
   "source": [
    "# no of works in the give file\n",
    "words=0\n",
    "for line in no_of_lines:\n",
    "    words_list=line.split()\n",
    "    words+=len(words_list)\n",
    "print(\"number of words are:\",words)"
   ]
  },
  {
   "cell_type": "code",
   "execution_count": null,
   "id": "b3bc95a9",
   "metadata": {},
   "outputs": [],
   "source": []
  }
 ],
 "metadata": {
  "kernelspec": {
   "display_name": "Python 3 (ipykernel)",
   "language": "python",
   "name": "python3"
  },
  "language_info": {
   "codemirror_mode": {
    "name": "ipython",
    "version": 3
   },
   "file_extension": ".py",
   "mimetype": "text/x-python",
   "name": "python",
   "nbconvert_exporter": "python",
   "pygments_lexer": "ipython3",
   "version": "3.9.7"
  }
 },
 "nbformat": 4,
 "nbformat_minor": 5
}
