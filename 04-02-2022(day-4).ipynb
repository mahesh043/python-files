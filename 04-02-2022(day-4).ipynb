{
 "cells": [
  {
   "cell_type": "code",
   "execution_count": 1,
   "id": "67900daa",
   "metadata": {},
   "outputs": [
    {
     "data": {
      "text/plain": [
       "['__add__',\n",
       " '__class__',\n",
       " '__class_getitem__',\n",
       " '__contains__',\n",
       " '__delattr__',\n",
       " '__delitem__',\n",
       " '__dir__',\n",
       " '__doc__',\n",
       " '__eq__',\n",
       " '__format__',\n",
       " '__ge__',\n",
       " '__getattribute__',\n",
       " '__getitem__',\n",
       " '__gt__',\n",
       " '__hash__',\n",
       " '__iadd__',\n",
       " '__imul__',\n",
       " '__init__',\n",
       " '__init_subclass__',\n",
       " '__iter__',\n",
       " '__le__',\n",
       " '__len__',\n",
       " '__lt__',\n",
       " '__mul__',\n",
       " '__ne__',\n",
       " '__new__',\n",
       " '__reduce__',\n",
       " '__reduce_ex__',\n",
       " '__repr__',\n",
       " '__reversed__',\n",
       " '__rmul__',\n",
       " '__setattr__',\n",
       " '__setitem__',\n",
       " '__sizeof__',\n",
       " '__str__',\n",
       " '__subclasshook__',\n",
       " 'append',\n",
       " 'clear',\n",
       " 'copy',\n",
       " 'count',\n",
       " 'extend',\n",
       " 'index',\n",
       " 'insert',\n",
       " 'pop',\n",
       " 'remove',\n",
       " 'reverse',\n",
       " 'sort']"
      ]
     },
     "execution_count": 1,
     "metadata": {},
     "output_type": "execute_result"
    }
   ],
   "source": [
    "dir(list)"
   ]
  },
  {
   "cell_type": "code",
   "execution_count": 2,
   "id": "0d31c77b",
   "metadata": {},
   "outputs": [
    {
     "name": "stdout",
     "output_type": "stream",
     "text": [
      "[2, 6, 9, 20, 'apple']\n",
      "['mahesh', 'vasavi', 23, 45, 67, 96]\n",
      "[4, 6, 89, 2, 34, 'and']\n"
     ]
    }
   ],
   "source": [
    "li=[2,6,9,20,'apple']\n",
    "li1=['mahesh','vasavi',23,45,67,96]\n",
    "li2=[4,6,89,2,34,'and']\n",
    "print(li)\n",
    "print(li1)\n",
    "print(li2)"
   ]
  },
  {
   "cell_type": "code",
   "execution_count": 4,
   "id": "fd98c864",
   "metadata": {},
   "outputs": [
    {
     "data": {
      "text/plain": [
       "[2, 6, 9, 20, 'apple', 88, 88]"
      ]
     },
     "execution_count": 4,
     "metadata": {},
     "output_type": "execute_result"
    }
   ],
   "source": [
    "# Append - we will add only single value\n",
    "# Extend - we will add more than one value\n",
    "li.append(88)\n",
    "li"
   ]
  },
  {
   "cell_type": "code",
   "execution_count": 5,
   "id": "40a04232",
   "metadata": {},
   "outputs": [
    {
     "data": {
      "text/plain": [
       "[2, 6, 9, 20, 'apple', 88, 88, 1, 2, 34]"
      ]
     },
     "execution_count": 5,
     "metadata": {},
     "output_type": "execute_result"
    }
   ],
   "source": [
    "li.extend([1,2,34])\n",
    "li"
   ]
  },
  {
   "cell_type": "code",
   "execution_count": 6,
   "id": "2b91f78b",
   "metadata": {},
   "outputs": [
    {
     "name": "stdout",
     "output_type": "stream",
     "text": [
      "[1, 2, 3, 4, 5]\n"
     ]
    }
   ],
   "source": [
    "li=[1,2,3,4,5,6]\n",
    "li.pop()\n",
    "print(li)"
   ]
  },
  {
   "cell_type": "code",
   "execution_count": 7,
   "id": "ef7db892",
   "metadata": {},
   "outputs": [
    {
     "name": "stdout",
     "output_type": "stream",
     "text": [
      "[5, 4, 3, 2, 1]\n"
     ]
    }
   ],
   "source": [
    "li.reverse()\n",
    "print(li)"
   ]
  },
  {
   "cell_type": "code",
   "execution_count": 8,
   "id": "7bf7e03d",
   "metadata": {},
   "outputs": [
    {
     "data": {
      "text/plain": [
       "[]"
      ]
     },
     "execution_count": 8,
     "metadata": {},
     "output_type": "execute_result"
    }
   ],
   "source": [
    "li.clear()\n",
    "li"
   ]
  },
  {
   "cell_type": "code",
   "execution_count": 10,
   "id": "c40e4bac",
   "metadata": {},
   "outputs": [
    {
     "data": {
      "text/plain": [
       "[1, 2, 3, 'nine', 4, 5, 6]"
      ]
     },
     "execution_count": 10,
     "metadata": {},
     "output_type": "execute_result"
    }
   ],
   "source": [
    "li=[1,2,3,4,5,6]\n",
    "li.insert(3,'nine')\n",
    "li"
   ]
  },
  {
   "cell_type": "code",
   "execution_count": 14,
   "id": "41f02377",
   "metadata": {},
   "outputs": [
    {
     "name": "stdout",
     "output_type": "stream",
     "text": [
      "[0, 2, 4, 6, 8, 10]\n",
      "[1, 3, 5, 7, 9]\n",
      "[0, 2, 4, 6, 8, 10, 1, 3, 5, 7, 9]\n"
     ]
    }
   ],
   "source": [
    "# 0-10 range\n",
    "# program\n",
    "# print even number\n",
    "# print odd number\n",
    "# print result(total number(0-10))\n",
    "even=[]\n",
    "odd=[]\n",
    "for i in range(0,11):\n",
    "    if(i%2==0):\n",
    "        even.append(i)\n",
    "    else:\n",
    "        odd.append(i)\n",
    "print(even)\n",
    "print(odd)\n",
    "print(even+odd)\n",
    "        "
   ]
  },
  {
   "cell_type": "code",
   "execution_count": 15,
   "id": "44212ca7",
   "metadata": {},
   "outputs": [
    {
     "name": "stdout",
     "output_type": "stream",
     "text": [
      "\n",
      " largest number : 645\n"
     ]
    }
   ],
   "source": [
    "# print largest value\n",
    "si=[1,3,645,8,34,300,79]\n",
    "high=0\n",
    "for i in si:\n",
    "    if i>=high:\n",
    "        high=i\n",
    "print(\"\\n largest number :\",high)\n",
    "\n"
   ]
  },
  {
   "cell_type": "markdown",
   "id": "df6565d0",
   "metadata": {},
   "source": [
    "# Tuple\n",
    "- tuple represented with ()\n"
   ]
  },
  {
   "cell_type": "code",
   "execution_count": 16,
   "id": "0c27ab19",
   "metadata": {},
   "outputs": [
    {
     "data": {
      "text/plain": [
       "['__add__',\n",
       " '__class__',\n",
       " '__class_getitem__',\n",
       " '__contains__',\n",
       " '__delattr__',\n",
       " '__dir__',\n",
       " '__doc__',\n",
       " '__eq__',\n",
       " '__format__',\n",
       " '__ge__',\n",
       " '__getattribute__',\n",
       " '__getitem__',\n",
       " '__getnewargs__',\n",
       " '__gt__',\n",
       " '__hash__',\n",
       " '__init__',\n",
       " '__init_subclass__',\n",
       " '__iter__',\n",
       " '__le__',\n",
       " '__len__',\n",
       " '__lt__',\n",
       " '__mul__',\n",
       " '__ne__',\n",
       " '__new__',\n",
       " '__reduce__',\n",
       " '__reduce_ex__',\n",
       " '__repr__',\n",
       " '__rmul__',\n",
       " '__setattr__',\n",
       " '__sizeof__',\n",
       " '__str__',\n",
       " '__subclasshook__',\n",
       " 'count',\n",
       " 'index']"
      ]
     },
     "execution_count": 16,
     "metadata": {},
     "output_type": "execute_result"
    }
   ],
   "source": [
    "dir(tuple)"
   ]
  },
  {
   "cell_type": "code",
   "execution_count": 17,
   "id": "325588fe",
   "metadata": {},
   "outputs": [
    {
     "data": {
      "text/plain": [
       "(1, 2, 3, 4, 5, 6)"
      ]
     },
     "execution_count": 17,
     "metadata": {},
     "output_type": "execute_result"
    }
   ],
   "source": [
    "t=(1,2,3,4,5,6)\n",
    "t"
   ]
  },
  {
   "cell_type": "code",
   "execution_count": 18,
   "id": "9d7d6565",
   "metadata": {},
   "outputs": [
    {
     "name": "stdout",
     "output_type": "stream",
     "text": [
      "<class 'tuple'>\n"
     ]
    }
   ],
   "source": [
    "print(type(t))"
   ]
  },
  {
   "cell_type": "code",
   "execution_count": 19,
   "id": "56748cd5",
   "metadata": {},
   "outputs": [
    {
     "data": {
      "text/plain": [
       "1"
      ]
     },
     "execution_count": 19,
     "metadata": {},
     "output_type": "execute_result"
    }
   ],
   "source": [
    "t.count(2)"
   ]
  },
  {
   "cell_type": "code",
   "execution_count": 20,
   "id": "4d21396e",
   "metadata": {},
   "outputs": [
    {
     "data": {
      "text/plain": [
       "1"
      ]
     },
     "execution_count": 20,
     "metadata": {},
     "output_type": "execute_result"
    }
   ],
   "source": [
    "t.index(2)"
   ]
  },
  {
   "cell_type": "code",
   "execution_count": 21,
   "id": "4a41d177",
   "metadata": {},
   "outputs": [
    {
     "data": {
      "text/plain": [
       "4"
      ]
     },
     "execution_count": 21,
     "metadata": {},
     "output_type": "execute_result"
    }
   ],
   "source": [
    "t.index(5)"
   ]
  },
  {
   "cell_type": "markdown",
   "id": "23ae5c41",
   "metadata": {},
   "source": [
    "# set \n",
    "- set is represented with {}"
   ]
  },
  {
   "cell_type": "code",
   "execution_count": 23,
   "id": "c3e5a608",
   "metadata": {},
   "outputs": [
    {
     "name": "stdout",
     "output_type": "stream",
     "text": [
      "<class 'set'>\n"
     ]
    }
   ],
   "source": [
    "li={1,2,3,4,5,6,7,9}\n",
    "print(type(li))"
   ]
  },
  {
   "cell_type": "code",
   "execution_count": 31,
   "id": "ae28b4fe",
   "metadata": {},
   "outputs": [],
   "source": [
    "s={1,2,3,4,5,6,7,9}\n",
    "t=(1,2,4,5,6,7)\n",
    "li=[2,4,78,9,7]"
   ]
  },
  {
   "cell_type": "code",
   "execution_count": 32,
   "id": "22a582d4",
   "metadata": {},
   "outputs": [
    {
     "data": {
      "text/plain": [
       "list"
      ]
     },
     "execution_count": 32,
     "metadata": {},
     "output_type": "execute_result"
    }
   ],
   "source": [
    "type(li)"
   ]
  },
  {
   "cell_type": "code",
   "execution_count": 33,
   "id": "c7d82d08",
   "metadata": {},
   "outputs": [
    {
     "data": {
      "text/plain": [
       "tuple"
      ]
     },
     "execution_count": 33,
     "metadata": {},
     "output_type": "execute_result"
    }
   ],
   "source": [
    "type(t)"
   ]
  },
  {
   "cell_type": "code",
   "execution_count": 34,
   "id": "ff92f0b1",
   "metadata": {},
   "outputs": [
    {
     "data": {
      "text/plain": [
       "set"
      ]
     },
     "execution_count": 34,
     "metadata": {},
     "output_type": "execute_result"
    }
   ],
   "source": [
    "type(s)"
   ]
  },
  {
   "cell_type": "code",
   "execution_count": 30,
   "id": "5bc5c3c9",
   "metadata": {},
   "outputs": [
    {
     "name": "stdout",
     "output_type": "stream",
     "text": [
      "length of list: 8\n",
      "length of tuple: 6\n",
      "length of set: 5\n"
     ]
    }
   ],
   "source": [
    "print(\"length of list:\",len(li))\n",
    "print(\"length of tuple:\",len(t))\n",
    "print(\"length of set:\",len(s))"
   ]
  },
  {
   "cell_type": "code",
   "execution_count": 35,
   "id": "dcaa5631",
   "metadata": {},
   "outputs": [
    {
     "data": {
      "text/plain": [
       "['__and__',\n",
       " '__class__',\n",
       " '__class_getitem__',\n",
       " '__contains__',\n",
       " '__delattr__',\n",
       " '__dir__',\n",
       " '__doc__',\n",
       " '__eq__',\n",
       " '__format__',\n",
       " '__ge__',\n",
       " '__getattribute__',\n",
       " '__gt__',\n",
       " '__hash__',\n",
       " '__iand__',\n",
       " '__init__',\n",
       " '__init_subclass__',\n",
       " '__ior__',\n",
       " '__isub__',\n",
       " '__iter__',\n",
       " '__ixor__',\n",
       " '__le__',\n",
       " '__len__',\n",
       " '__lt__',\n",
       " '__ne__',\n",
       " '__new__',\n",
       " '__or__',\n",
       " '__rand__',\n",
       " '__reduce__',\n",
       " '__reduce_ex__',\n",
       " '__repr__',\n",
       " '__ror__',\n",
       " '__rsub__',\n",
       " '__rxor__',\n",
       " '__setattr__',\n",
       " '__sizeof__',\n",
       " '__str__',\n",
       " '__sub__',\n",
       " '__subclasshook__',\n",
       " '__xor__',\n",
       " 'add',\n",
       " 'clear',\n",
       " 'copy',\n",
       " 'difference',\n",
       " 'difference_update',\n",
       " 'discard',\n",
       " 'intersection',\n",
       " 'intersection_update',\n",
       " 'isdisjoint',\n",
       " 'issubset',\n",
       " 'issuperset',\n",
       " 'pop',\n",
       " 'remove',\n",
       " 'symmetric_difference',\n",
       " 'symmetric_difference_update',\n",
       " 'union',\n",
       " 'update']"
      ]
     },
     "execution_count": 35,
     "metadata": {},
     "output_type": "execute_result"
    }
   ],
   "source": [
    "dir(set)"
   ]
  },
  {
   "cell_type": "code",
   "execution_count": 36,
   "id": "0bbe890c",
   "metadata": {},
   "outputs": [
    {
     "name": "stdout",
     "output_type": "stream",
     "text": [
      "{'dog', 'tiger', 'cat', 'fox', 'lion', 'peacock'}\n"
     ]
    }
   ],
   "source": [
    "s={'fox','cat','dog','lion','tiger','peacock'}\n",
    "print(s)"
   ]
  },
  {
   "cell_type": "code",
   "execution_count": 37,
   "id": "eec55df7",
   "metadata": {},
   "outputs": [],
   "source": [
    "s.add('monkey')"
   ]
  },
  {
   "cell_type": "code",
   "execution_count": 38,
   "id": "15455266",
   "metadata": {},
   "outputs": [
    {
     "data": {
      "text/plain": [
       "{'cat', 'dog', 'fox', 'lion', 'monkey', 'peacock', 'tiger'}"
      ]
     },
     "execution_count": 38,
     "metadata": {},
     "output_type": "execute_result"
    }
   ],
   "source": [
    "s"
   ]
  },
  {
   "cell_type": "code",
   "execution_count": 39,
   "id": "95a872e2",
   "metadata": {},
   "outputs": [
    {
     "name": "stdout",
     "output_type": "stream",
     "text": [
      "{1, 2, 'monkey', 3, 4, 'tiger', 'cat', 'dog', 'fox', 'lion', 'peacock'}\n"
     ]
    }
   ],
   "source": [
    "# update - to addd multiple elements at a time in a set\n",
    "s.update([1,2,3,4])\n",
    "print(s)"
   ]
  },
  {
   "cell_type": "markdown",
   "id": "917f0f57",
   "metadata": {},
   "source": [
    "# deletion\n",
    "   - clear()-to clear all data\n",
    "   - remove()-it is used to remove particular value\n",
    "   - discard()-it is also used to discard particular data\n",
    "   - pop()-to delete random elements\n"
   ]
  },
  {
   "cell_type": "code",
   "execution_count": 44,
   "id": "9ce45be7",
   "metadata": {},
   "outputs": [
    {
     "name": "stdout",
     "output_type": "stream",
     "text": [
      "{'dog', 'tiger', 'cat', 'fox', 'lion', 'peacock'}\n"
     ]
    }
   ],
   "source": [
    "s={'fox','cat','dog','lion','tiger','peacock'}\n",
    "print(s)"
   ]
  },
  {
   "cell_type": "code",
   "execution_count": 45,
   "id": "7014c122",
   "metadata": {},
   "outputs": [],
   "source": [
    "s.remove('cat')"
   ]
  },
  {
   "cell_type": "code",
   "execution_count": 46,
   "id": "e980f50a",
   "metadata": {},
   "outputs": [
    {
     "data": {
      "text/plain": [
       "{'dog', 'fox', 'lion', 'peacock', 'tiger'}"
      ]
     },
     "execution_count": 46,
     "metadata": {},
     "output_type": "execute_result"
    }
   ],
   "source": [
    "s"
   ]
  },
  {
   "cell_type": "code",
   "execution_count": 47,
   "id": "6c505683",
   "metadata": {},
   "outputs": [],
   "source": [
    "s.discard('lion')"
   ]
  },
  {
   "cell_type": "code",
   "execution_count": 48,
   "id": "1a34b137",
   "metadata": {},
   "outputs": [
    {
     "data": {
      "text/plain": [
       "{'dog', 'fox', 'peacock', 'tiger'}"
      ]
     },
     "execution_count": 48,
     "metadata": {},
     "output_type": "execute_result"
    }
   ],
   "source": [
    "s"
   ]
  },
  {
   "cell_type": "code",
   "execution_count": 49,
   "id": "0abc25d1",
   "metadata": {},
   "outputs": [
    {
     "data": {
      "text/plain": [
       "'dog'"
      ]
     },
     "execution_count": 49,
     "metadata": {},
     "output_type": "execute_result"
    }
   ],
   "source": [
    "s.pop()"
   ]
  },
  {
   "cell_type": "code",
   "execution_count": 50,
   "id": "2058aca5",
   "metadata": {},
   "outputs": [
    {
     "data": {
      "text/plain": [
       "{'fox', 'peacock', 'tiger'}"
      ]
     },
     "execution_count": 50,
     "metadata": {},
     "output_type": "execute_result"
    }
   ],
   "source": [
    "s"
   ]
  },
  {
   "cell_type": "code",
   "execution_count": 51,
   "id": "33e3ffd9",
   "metadata": {},
   "outputs": [],
   "source": [
    "s.clear()"
   ]
  },
  {
   "cell_type": "code",
   "execution_count": 52,
   "id": "6f0edf0c",
   "metadata": {},
   "outputs": [
    {
     "data": {
      "text/plain": [
       "set()"
      ]
     },
     "execution_count": 52,
     "metadata": {},
     "output_type": "execute_result"
    }
   ],
   "source": [
    "s"
   ]
  },
  {
   "cell_type": "markdown",
   "id": "c7d5b30a",
   "metadata": {},
   "source": [
    "## set Operation\n",
    "- union:combination of all elements from 2 sets\n",
    "- intersection:common elemnts form two sets\n",
    "- Difference: all the remaining elements from a set after removing common elements\n",
    "- symetric-difference: uncommon element from both sets"
   ]
  },
  {
   "cell_type": "code",
   "execution_count": 54,
   "id": "ca0ea918",
   "metadata": {},
   "outputs": [
    {
     "name": "stdout",
     "output_type": "stream",
     "text": [
      "{2, 3, 4, 5, 6, 7, 8, 9, 10}\n"
     ]
    }
   ],
   "source": [
    "a={2,3,4,5,6,7,8}\n",
    "b={3,4,7,10,9,5}\n",
    "print(a.union(b))"
   ]
  },
  {
   "cell_type": "code",
   "execution_count": 55,
   "id": "097bf4d6",
   "metadata": {},
   "outputs": [
    {
     "name": "stdout",
     "output_type": "stream",
     "text": [
      "{2, 3, 4, 5, 6, 7, 8}\n"
     ]
    }
   ],
   "source": [
    "print(a)"
   ]
  },
  {
   "cell_type": "code",
   "execution_count": 56,
   "id": "92e115fd",
   "metadata": {},
   "outputs": [
    {
     "name": "stdout",
     "output_type": "stream",
     "text": [
      "{3, 4, 5, 7, 9, 10}\n"
     ]
    }
   ],
   "source": [
    "print(b)"
   ]
  },
  {
   "cell_type": "code",
   "execution_count": 57,
   "id": "c29cf051",
   "metadata": {},
   "outputs": [
    {
     "name": "stdout",
     "output_type": "stream",
     "text": [
      "{3, 4, 5, 7}\n"
     ]
    }
   ],
   "source": [
    "print(a.intersection(b))"
   ]
  },
  {
   "cell_type": "code",
   "execution_count": 59,
   "id": "f8817082",
   "metadata": {},
   "outputs": [
    {
     "name": "stdout",
     "output_type": "stream",
     "text": [
      "{8, 2, 6}\n",
      "{9, 10}\n"
     ]
    }
   ],
   "source": [
    "print(a.difference(b))\n",
    "print(b.difference(a))\n",
    "\n"
   ]
  },
  {
   "cell_type": "code",
   "execution_count": 61,
   "id": "65171fd1",
   "metadata": {},
   "outputs": [
    {
     "name": "stdout",
     "output_type": "stream",
     "text": [
      "{2, 6, 8, 9, 10}\n"
     ]
    }
   ],
   "source": [
    "print(a.symmetric_difference(b))"
   ]
  },
  {
   "cell_type": "code",
   "execution_count": 64,
   "id": "9d6ef15c",
   "metadata": {},
   "outputs": [
    {
     "data": {
      "text/plain": [
       "{3, 4, 5, 6, 10, 90}"
      ]
     },
     "execution_count": 64,
     "metadata": {},
     "output_type": "execute_result"
    }
   ],
   "source": [
    "a={10,3,4,5,6,90}\n",
    "a1=a.copy()\n",
    "a1"
   ]
  },
  {
   "cell_type": "code",
   "execution_count": 67,
   "id": "1c2b5a9c",
   "metadata": {},
   "outputs": [
    {
     "name": "stdout",
     "output_type": "stream",
     "text": [
      "True\n",
      "True\n"
     ]
    }
   ],
   "source": [
    "m={1,2,3,4,5,6}\n",
    "n={3,6}\n",
    "print(n.issubset(m))\n",
    "print(m.issuperset(n))"
   ]
  },
  {
   "cell_type": "code",
   "execution_count": 68,
   "id": "ddfd26cb",
   "metadata": {},
   "outputs": [
    {
     "data": {
      "text/plain": [
       "True"
      ]
     },
     "execution_count": 68,
     "metadata": {},
     "output_type": "execute_result"
    }
   ],
   "source": [
    "l={4,5,6,7}\n",
    "p={1,2,3}\n",
    "l.isdisjoint(p)"
   ]
  },
  {
   "cell_type": "code",
   "execution_count": 70,
   "id": "6f7ef332",
   "metadata": {},
   "outputs": [
    {
     "name": "stdout",
     "output_type": "stream",
     "text": [
      "None\n"
     ]
    }
   ],
   "source": [
    "p={10,20,30,40}\n",
    "q={40,50,60,70}\n",
    "print(p.difference_update(q))"
   ]
  },
  {
   "cell_type": "code",
   "execution_count": 73,
   "id": "71c1b69a",
   "metadata": {},
   "outputs": [
    {
     "name": "stdout",
     "output_type": "stream",
     "text": [
      "{10, 20, 30}\n",
      "{40, 50, 60, 70}\n"
     ]
    }
   ],
   "source": [
    "print(p)\n",
    "print(q)"
   ]
  },
  {
   "cell_type": "markdown",
   "id": "14492af5",
   "metadata": {},
   "source": [
    "#  Dictionaries\n",
    "- dictionary is an unordered collection of items\n",
    "- each item of dictionary has a key and value pair :::{key:value}\n",
    "- dictionary is mutable and changable\n",
    "- in python dictionary written in {}\n",
    "- keys are not allow duplicate values\n",
    "- values are allowed to duplicate values\n",
    "- enter dictionary depending upon key\n",
    "    - keys are unique in nature\n",
    "    - keys can be return in any data type\n",
    "- values may be similar to values,mentioned as any datatype\n",
    "- key and values together called as item\n",
    "- In dictionary indexingis not supported"
   ]
  },
  {
   "cell_type": "code",
   "execution_count": 74,
   "id": "f26581fd",
   "metadata": {},
   "outputs": [
    {
     "name": "stdout",
     "output_type": "stream",
     "text": [
      "<class 'dict'>\n"
     ]
    }
   ],
   "source": [
    "d={}\n",
    "print(type(d))"
   ]
  },
  {
   "cell_type": "code",
   "execution_count": 76,
   "id": "9cb9ce99",
   "metadata": {},
   "outputs": [
    {
     "data": {
      "text/plain": [
       "{43: 67, 89: 34, 90: 47}"
      ]
     },
     "execution_count": 76,
     "metadata": {},
     "output_type": "execute_result"
    }
   ],
   "source": [
    "d={43:56,89:34,90:47,43:67}# key can't mention duplicate values\n",
    "d"
   ]
  },
  {
   "cell_type": "code",
   "execution_count": 77,
   "id": "239935de",
   "metadata": {},
   "outputs": [
    {
     "name": "stdout",
     "output_type": "stream",
     "text": [
      "222\n",
      "90\n",
      "43\n",
      "3\n",
      "[43, 89, 90]\n"
     ]
    }
   ],
   "source": [
    "print(sum(d))\n",
    "print(max(d))\n",
    "print(min(d))\n",
    "print(len(d))\n",
    "print(sorted(d))\n"
   ]
  },
  {
   "cell_type": "code",
   "execution_count": 78,
   "id": "113be8ca",
   "metadata": {},
   "outputs": [
    {
     "data": {
      "text/plain": [
       "47"
      ]
     },
     "execution_count": 78,
     "metadata": {},
     "output_type": "execute_result"
    }
   ],
   "source": [
    "d[90]"
   ]
  },
  {
   "cell_type": "code",
   "execution_count": 79,
   "id": "12d60a5e",
   "metadata": {},
   "outputs": [
    {
     "data": {
      "text/plain": [
       "{23: 234, 24: 45, 26: 474, 56: {23, 45, 67}}"
      ]
     },
     "execution_count": 79,
     "metadata": {},
     "output_type": "execute_result"
    }
   ],
   "source": [
    "d1={23:234,24:45,26:474,56:{23,45,67}}\n",
    "d1"
   ]
  },
  {
   "cell_type": "code",
   "execution_count": 81,
   "id": "dd6f5799",
   "metadata": {},
   "outputs": [
    {
     "data": {
      "text/plain": [
       "{23, 45, 67}"
      ]
     },
     "execution_count": 81,
     "metadata": {},
     "output_type": "execute_result"
    }
   ],
   "source": [
    "d1[56]"
   ]
  },
  {
   "cell_type": "code",
   "execution_count": 82,
   "id": "b6b04c10",
   "metadata": {},
   "outputs": [
    {
     "data": {
      "text/plain": [
       "['__class__',\n",
       " '__class_getitem__',\n",
       " '__contains__',\n",
       " '__delattr__',\n",
       " '__delitem__',\n",
       " '__dir__',\n",
       " '__doc__',\n",
       " '__eq__',\n",
       " '__format__',\n",
       " '__ge__',\n",
       " '__getattribute__',\n",
       " '__getitem__',\n",
       " '__gt__',\n",
       " '__hash__',\n",
       " '__init__',\n",
       " '__init_subclass__',\n",
       " '__ior__',\n",
       " '__iter__',\n",
       " '__le__',\n",
       " '__len__',\n",
       " '__lt__',\n",
       " '__ne__',\n",
       " '__new__',\n",
       " '__or__',\n",
       " '__reduce__',\n",
       " '__reduce_ex__',\n",
       " '__repr__',\n",
       " '__reversed__',\n",
       " '__ror__',\n",
       " '__setattr__',\n",
       " '__setitem__',\n",
       " '__sizeof__',\n",
       " '__str__',\n",
       " '__subclasshook__',\n",
       " 'clear',\n",
       " 'copy',\n",
       " 'fromkeys',\n",
       " 'get',\n",
       " 'items',\n",
       " 'keys',\n",
       " 'pop',\n",
       " 'popitem',\n",
       " 'setdefault',\n",
       " 'update',\n",
       " 'values']"
      ]
     },
     "execution_count": 82,
     "metadata": {},
     "output_type": "execute_result"
    }
   ],
   "source": [
    "dir(dict)"
   ]
  },
  {
   "cell_type": "code",
   "execution_count": 83,
   "id": "a42d6019",
   "metadata": {},
   "outputs": [
    {
     "data": {
      "text/plain": [
       "{23, 45, 67}"
      ]
     },
     "execution_count": 83,
     "metadata": {},
     "output_type": "execute_result"
    }
   ],
   "source": [
    "d1.get(56)"
   ]
  },
  {
   "cell_type": "code",
   "execution_count": 84,
   "id": "2a37da71",
   "metadata": {},
   "outputs": [
    {
     "data": {
      "text/plain": [
       "dict_keys([23, 24, 26, 56])"
      ]
     },
     "execution_count": 84,
     "metadata": {},
     "output_type": "execute_result"
    }
   ],
   "source": [
    "d1.keys()"
   ]
  },
  {
   "cell_type": "code",
   "execution_count": 85,
   "id": "c9af5ae1",
   "metadata": {},
   "outputs": [
    {
     "data": {
      "text/plain": [
       "{23: 234, 24: 45, 26: 474, 56: {23, 45, 67}, 'python': 'workshop'}"
      ]
     },
     "execution_count": 85,
     "metadata": {},
     "output_type": "execute_result"
    }
   ],
   "source": [
    "d1['python']=\"workshop\"\n",
    "d1"
   ]
  },
  {
   "cell_type": "code",
   "execution_count": 86,
   "id": "cb526b2c",
   "metadata": {},
   "outputs": [
    {
     "data": {
      "text/plain": [
       "234"
      ]
     },
     "execution_count": 86,
     "metadata": {},
     "output_type": "execute_result"
    }
   ],
   "source": [
    "d1.pop(23)"
   ]
  },
  {
   "cell_type": "code",
   "execution_count": 87,
   "id": "48a07609",
   "metadata": {},
   "outputs": [
    {
     "data": {
      "text/plain": [
       "{24: 45, 26: 474, 56: {23, 45, 67}, 'python': 'workshop'}"
      ]
     },
     "execution_count": 87,
     "metadata": {},
     "output_type": "execute_result"
    }
   ],
   "source": [
    "d1"
   ]
  },
  {
   "cell_type": "code",
   "execution_count": 90,
   "id": "265e339e",
   "metadata": {},
   "outputs": [
    {
     "data": {
      "text/plain": [
       "dict_items([(24, 45), (26, 474), (56, {67, 45, 23}), ('python', 'workshop')])"
      ]
     },
     "execution_count": 90,
     "metadata": {},
     "output_type": "execute_result"
    }
   ],
   "source": [
    "d1.items()"
   ]
  },
  {
   "cell_type": "code",
   "execution_count": 91,
   "id": "5a473c0d",
   "metadata": {},
   "outputs": [
    {
     "data": {
      "text/plain": [
       "('python', 'workshop')"
      ]
     },
     "execution_count": 91,
     "metadata": {},
     "output_type": "execute_result"
    }
   ],
   "source": [
    "d1.popitem()"
   ]
  },
  {
   "cell_type": "code",
   "execution_count": 92,
   "id": "ddf73a2d",
   "metadata": {},
   "outputs": [
    {
     "data": {
      "text/plain": [
       "{24: 45, 26: 474, 56: {23, 45, 67}}"
      ]
     },
     "execution_count": 92,
     "metadata": {},
     "output_type": "execute_result"
    }
   ],
   "source": [
    "d1"
   ]
  },
  {
   "cell_type": "code",
   "execution_count": 93,
   "id": "977c4a2e",
   "metadata": {},
   "outputs": [
    {
     "name": "stdout",
     "output_type": "stream",
     "text": [
      "{24: 45, 26: 474, 56: {67, 45, 23}}\n",
      "{24: 45, 26: 474, 56: {67, 45, 23}}\n"
     ]
    }
   ],
   "source": [
    "d2=d1.copy()\n",
    "print(d2)\n",
    "print(d1)"
   ]
  },
  {
   "cell_type": "code",
   "execution_count": 97,
   "id": "d98884a4",
   "metadata": {},
   "outputs": [
    {
     "data": {
      "text/plain": [
       "{'w': None, 'o': None, 'r': None, 'k': None}"
      ]
     },
     "execution_count": 97,
     "metadata": {},
     "output_type": "execute_result"
    }
   ],
   "source": [
    "d2.fromkeys(\"work\")"
   ]
  },
  {
   "cell_type": "code",
   "execution_count": 98,
   "id": "cb398836",
   "metadata": {},
   "outputs": [
    {
     "data": {
      "text/plain": [
       "{'p': 45, 'y': 45, 't': 45, 'h': 45, 'o': 45, 'n': 45}"
      ]
     },
     "execution_count": 98,
     "metadata": {},
     "output_type": "execute_result"
    }
   ],
   "source": [
    "d2.fromkeys('python',45)"
   ]
  },
  {
   "cell_type": "code",
   "execution_count": 99,
   "id": "0e6cb76b",
   "metadata": {},
   "outputs": [
    {
     "name": "stdout",
     "output_type": "stream",
     "text": [
      "{24: 45, 26: 474, 56: {67, 45, 23}, 'dhoni': 'mahi'}\n"
     ]
    }
   ],
   "source": [
    "d2.update({'dhoni':'mahi'})\n",
    "print(d2)"
   ]
  },
  {
   "cell_type": "code",
   "execution_count": 101,
   "id": "cf0d36ba",
   "metadata": {},
   "outputs": [
    {
     "data": {
      "text/plain": [
       "{}"
      ]
     },
     "execution_count": 101,
     "metadata": {},
     "output_type": "execute_result"
    }
   ],
   "source": [
    "d2.clear()\n",
    "d2"
   ]
  },
  {
   "cell_type": "code",
   "execution_count": null,
   "id": "f8e4cc7f",
   "metadata": {},
   "outputs": [],
   "source": []
  }
 ],
 "metadata": {
  "kernelspec": {
   "display_name": "Python 3 (ipykernel)",
   "language": "python",
   "name": "python3"
  },
  "language_info": {
   "codemirror_mode": {
    "name": "ipython",
    "version": 3
   },
   "file_extension": ".py",
   "mimetype": "text/x-python",
   "name": "python",
   "nbconvert_exporter": "python",
   "pygments_lexer": "ipython3",
   "version": "3.9.7"
  }
 },
 "nbformat": 4,
 "nbformat_minor": 5
}
